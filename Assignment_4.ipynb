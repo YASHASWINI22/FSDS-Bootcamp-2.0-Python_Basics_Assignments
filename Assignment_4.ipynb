{
  "nbformat": 4,
  "nbformat_minor": 0,
  "metadata": {
    "colab": {
      "provenance": [],
      "collapsed_sections": []
    },
    "kernelspec": {
      "name": "python3",
      "display_name": "Python 3"
    },
    "language_info": {
      "name": "python"
    }
  },
  "cells": [
    {
      "cell_type": "code",
      "execution_count": 1,
      "metadata": {
        "id": "cpScQQvO4QHC"
      },
      "outputs": [],
      "source": [
        "#1. 1. What exactly is []?\n",
        "\n",
        "##Solution: Empty List created using square brackets []. Empty list generally contains no value or items.\n"
      ]
    },
    {
      "cell_type": "code",
      "source": [
        "#2. In a list of values stored in a variable called spam, \n",
        "    #how would you assign the value 'hello' as the third value? (Assume [2, 4, 6, 8, 10] are in spam.).\n",
        "    #Let's pretend the spam includes the list ['a', 'b', 'c', 'd'] for the next three queries.\n",
        "    \n",
        "##Solution: \n",
        "spam = [2, 4, 'hello', 6, 8, 10]\n",
        "spam[2]\n"
      ],
      "metadata": {
        "colab": {
          "base_uri": "https://localhost:8080/",
          "height": 35
        },
        "id": "g9a2nlDq5VHk",
        "outputId": "893341d5-e901-44ef-c951-813da6dfe054"
      },
      "execution_count": 2,
      "outputs": [
        {
          "output_type": "execute_result",
          "data": {
            "text/plain": [
              "'hello'"
            ],
            "application/vnd.google.colaboratory.intrinsic+json": {
              "type": "string"
            }
          },
          "metadata": {},
          "execution_count": 2
        }
      ]
    },
    {
      "cell_type": "code",
      "source": [
        "#3. What is the value of spam[int(int('3' * 2) / 11)]?\n",
        "#spam ['a', 'b', 'c', 'd'] \n",
        "spam = ['a', 'b', 'c', 'd']\n",
        "##Solution: 'd' is the answer \n",
        "\n"
      ],
      "metadata": {
        "id": "O1n3uByu6Bsa"
      },
      "execution_count": 3,
      "outputs": []
    },
    {
      "cell_type": "code",
      "source": [
        "int('3' * 2) / 11"
      ],
      "metadata": {
        "colab": {
          "base_uri": "https://localhost:8080/"
        },
        "id": "GCSzgP2h88sy",
        "outputId": "e41bd631-d668-4117-dc57-ab71a45e0691"
      },
      "execution_count": 4,
      "outputs": [
        {
          "output_type": "execute_result",
          "data": {
            "text/plain": [
              "3.0"
            ]
          },
          "metadata": {},
          "execution_count": 4
        }
      ]
    },
    {
      "cell_type": "code",
      "source": [
        "int(3.0)"
      ],
      "metadata": {
        "colab": {
          "base_uri": "https://localhost:8080/"
        },
        "id": "PVaOEsBc8_ag",
        "outputId": "52815fce-8150-489b-f50a-e650f5b4babb"
      },
      "execution_count": 5,
      "outputs": [
        {
          "output_type": "execute_result",
          "data": {
            "text/plain": [
              "3"
            ]
          },
          "metadata": {},
          "execution_count": 5
        }
      ]
    },
    {
      "cell_type": "code",
      "source": [
        "int(3)"
      ],
      "metadata": {
        "colab": {
          "base_uri": "https://localhost:8080/"
        },
        "id": "iQD1ELIE9CVE",
        "outputId": "ad66addb-146d-45a1-cdae-1c5869e502a4"
      },
      "execution_count": 6,
      "outputs": [
        {
          "output_type": "execute_result",
          "data": {
            "text/plain": [
              "3"
            ]
          },
          "metadata": {},
          "execution_count": 6
        }
      ]
    },
    {
      "cell_type": "code",
      "source": [
        "#4. What is the value of spam[-1]?\n",
        "spam = ['a', 'b', 'c', 'd']\n",
        "spam[-1]\n",
        "\n",
        "##Solution: 'd'"
      ],
      "metadata": {
        "colab": {
          "base_uri": "https://localhost:8080/",
          "height": 35
        },
        "id": "SNpnrIbh9m_8",
        "outputId": "00f8f4b4-6620-4b2f-aa84-93ea88bc05d7"
      },
      "execution_count": 7,
      "outputs": [
        {
          "output_type": "execute_result",
          "data": {
            "text/plain": [
              "'d'"
            ],
            "application/vnd.google.colaboratory.intrinsic+json": {
              "type": "string"
            }
          },
          "metadata": {},
          "execution_count": 7
        }
      ]
    },
    {
      "cell_type": "code",
      "source": [
        "#5. What is the value of spam[:2]?\n",
        "spam = ['a', 'b', 'c', 'd'] #index starts from 0,1,2,3. so [:2] means excluding 2nd index, 0 and 1st index will be considered.\n",
        "spam[:2]\n",
        "\n",
        "##Solution: \n",
        "            #['a','b']\n",
        "\n"
      ],
      "metadata": {
        "colab": {
          "base_uri": "https://localhost:8080/"
        },
        "id": "8q-8Jf_k-gVv",
        "outputId": "d0607111-f55f-403a-91bb-0a8e4e2ae132"
      },
      "execution_count": 8,
      "outputs": [
        {
          "output_type": "execute_result",
          "data": {
            "text/plain": [
              "['a', 'b']"
            ]
          },
          "metadata": {},
          "execution_count": 8
        }
      ]
    },
    {
      "cell_type": "code",
      "source": [
        "#Let's pretend bacon has the list [3.14, 'cat,' 11, 'cat,' True] for the next three questions.\n",
        "\n",
        "#6. What is the value of bacon.index('cat')?\n",
        "\n",
        "##Solution:\n",
        "bacon = [3.14, 'cat', 11, 'cat', True] #index starts from 0,1,2,3,4. As 'cat' is mentioned in 1st index, answer is 1.\n",
        "bacon.index('cat')"
      ],
      "metadata": {
        "colab": {
          "base_uri": "https://localhost:8080/"
        },
        "id": "6zg83V1R-wLP",
        "outputId": "fdda0113-fc7b-447d-8f17-22683d73a287"
      },
      "execution_count": 9,
      "outputs": [
        {
          "output_type": "execute_result",
          "data": {
            "text/plain": [
              "1"
            ]
          },
          "metadata": {},
          "execution_count": 9
        }
      ]
    },
    {
      "cell_type": "code",
      "source": [
        "#7. How does bacon.append(99) change the look of the list value in bacon?\n",
        "\n",
        "bacon = [3.14, 'cat', 11, 'cat', True]\n",
        "bacon.append(99) #append adds value to the end of the given list\n",
        "bacon"
      ],
      "metadata": {
        "colab": {
          "base_uri": "https://localhost:8080/"
        },
        "id": "OUtOrtexAI5L",
        "outputId": "01bd18c1-0d47-4615-e6f8-0021943909ae"
      },
      "execution_count": 10,
      "outputs": [
        {
          "output_type": "execute_result",
          "data": {
            "text/plain": [
              "[3.14, 'cat', 11, 'cat', True, 99]"
            ]
          },
          "metadata": {},
          "execution_count": 10
        }
      ]
    },
    {
      "cell_type": "code",
      "source": [
        "#8. How does bacon.remove('cat') change the look of the list in bacon?\n",
        "\n",
        "bacon = [3.14, 'cat', 11, 'cat', True]\n",
        "bacon.remove('cat')\n",
        "bacon #remove() method removes the first 'cat' term from the list, if we run the method again, it removes the next 'cat' term from the list."
      ],
      "metadata": {
        "colab": {
          "base_uri": "https://localhost:8080/"
        },
        "id": "zlQF4SrsClmj",
        "outputId": "28afdc47-c957-4fd2-f31c-8e67fb4c4807"
      },
      "execution_count": 11,
      "outputs": [
        {
          "output_type": "execute_result",
          "data": {
            "text/plain": [
              "[3.14, 11, 'cat', True]"
            ]
          },
          "metadata": {},
          "execution_count": 11
        }
      ]
    },
    {
      "cell_type": "code",
      "source": [
        "#9. What are the list concatenation and list replication operators?\n",
        "\n",
        "## Operator for list concatenation is \"+\" and list replication is \"*\"\n",
        "print('A'+'B')\n",
        "print('A'*2)\n",
        "print('B'*2)"
      ],
      "metadata": {
        "colab": {
          "base_uri": "https://localhost:8080/"
        },
        "id": "cAR9f-xuC7ul",
        "outputId": "7b64418e-9563-476d-f2d5-1d9a65451e9a"
      },
      "execution_count": 12,
      "outputs": [
        {
          "output_type": "stream",
          "name": "stdout",
          "text": [
            "AB\n",
            "AA\n",
            "BB\n"
          ]
        }
      ]
    },
    {
      "cell_type": "code",
      "source": [
        "#10. What is difference between the list methods append() and insert()?\n",
        "\n",
        "## append() method adds to the list of values only at the end\n",
        "## insert() method allows the user to add values at any specified index/position/location\n",
        "\n",
        "## for example\n",
        "\n",
        "C = ['Physics','Chemistry','Maths','Science'] #append() method\n",
        "C.append('Social Science')\n",
        "C"
      ],
      "metadata": {
        "colab": {
          "base_uri": "https://localhost:8080/"
        },
        "id": "zYlACkUiDI7v",
        "outputId": "c607834c-b95a-46b3-a4ea-ef12416091a7"
      },
      "execution_count": 13,
      "outputs": [
        {
          "output_type": "execute_result",
          "data": {
            "text/plain": [
              "['Physics', 'Chemistry', 'Maths', 'Science', 'Social Science']"
            ]
          },
          "metadata": {},
          "execution_count": 13
        }
      ]
    },
    {
      "cell_type": "code",
      "source": [
        "C.insert(1,'Biotechnology') #insert() method\n",
        "C"
      ],
      "metadata": {
        "colab": {
          "base_uri": "https://localhost:8080/"
        },
        "id": "slp1dRb8Hg3T",
        "outputId": "35be7fe5-cdf1-4a8d-f0c8-63432217503f"
      },
      "execution_count": 14,
      "outputs": [
        {
          "output_type": "execute_result",
          "data": {
            "text/plain": [
              "['Physics', 'Biotechnology', 'Chemistry', 'Maths', 'Science', 'Social Science']"
            ]
          },
          "metadata": {},
          "execution_count": 14
        }
      ]
    },
    {
      "cell_type": "code",
      "source": [
        "#11. What are the two methods for removing items from a list?\n",
        "\n",
        "## remove(), pop(), clear()\n",
        "\n",
        "#for example\n",
        "D = ['a','b','c','d','e']\n",
        "D.remove('a')\n",
        "D \n",
        "\n"
      ],
      "metadata": {
        "colab": {
          "base_uri": "https://localhost:8080/"
        },
        "id": "yXdLYzsxHvi-",
        "outputId": "127bdf62-8085-433b-8a67-307428a7de2b"
      },
      "execution_count": 15,
      "outputs": [
        {
          "output_type": "execute_result",
          "data": {
            "text/plain": [
              "['b', 'c', 'd', 'e']"
            ]
          },
          "metadata": {},
          "execution_count": 15
        }
      ]
    },
    {
      "cell_type": "code",
      "source": [
        "D = ['a','b','c','d','e']\n",
        "D.pop()\n",
        "D"
      ],
      "metadata": {
        "colab": {
          "base_uri": "https://localhost:8080/"
        },
        "id": "xmeE_IfwK7dt",
        "outputId": "9ccf201c-348b-4b50-e980-ae00ddc1a3c1"
      },
      "execution_count": 17,
      "outputs": [
        {
          "output_type": "execute_result",
          "data": {
            "text/plain": [
              "['a', 'b', 'c', 'd']"
            ]
          },
          "metadata": {},
          "execution_count": 17
        }
      ]
    },
    {
      "cell_type": "code",
      "source": [
        "D = ['a','b','c','d','e']\n",
        "D.clear()\n",
        "D"
      ],
      "metadata": {
        "colab": {
          "base_uri": "https://localhost:8080/"
        },
        "id": "fqyjP3bzLA6s",
        "outputId": "fd441d4f-6954-44c0-b55f-917d09ad5a0a"
      },
      "execution_count": 19,
      "outputs": [
        {
          "output_type": "execute_result",
          "data": {
            "text/plain": [
              "[]"
            ]
          },
          "metadata": {},
          "execution_count": 19
        }
      ]
    },
    {
      "cell_type": "code",
      "source": [
        "#12. Describe how list values and string values are identical.\n"
      ],
      "metadata": {
        "id": "jYIGPZZhLLCK"
      },
      "execution_count": 21,
      "outputs": []
    },
    {
      "cell_type": "markdown",
      "source": [
        "### List                       |    String\n",
        "\n",
        "List is a sequence             | String is a sequence\n",
        "\n",
        "Mutable, i.e. make changes     | Immutable i.e. make no changes in list\n",
        "\n",
        "Contains elements of different types | Contains only characters\n",
        "\n",
        "\n",
        "\n",
        "\n",
        "\n",
        "\n",
        "\n",
        "\n",
        "\n",
        "\n"
      ],
      "metadata": {
        "id": "_n1m18DGMqsu"
      }
    },
    {
      "cell_type": "code",
      "source": [
        "#13. What's the difference between tuples and lists?\n"
      ],
      "metadata": {
        "id": "KQx7NTQpMp9a"
      },
      "execution_count": 22,
      "outputs": []
    },
    {
      "cell_type": "markdown",
      "source": [
        "Tuples           |    List\n",
        "\n",
        "Immutable        |  Mutable\n",
        "\n",
        "Represented as () | Represented as []\n",
        "\n"
      ],
      "metadata": {
        "id": "ctp-B2enORyv"
      }
    },
    {
      "cell_type": "code",
      "source": [
        "#14. How do you type a tuple value that only contains the integer 42?\n",
        "tuple('42')\n",
        "tuple('42',)"
      ],
      "metadata": {
        "colab": {
          "base_uri": "https://localhost:8080/"
        },
        "id": "p0UG8HNtORF5",
        "outputId": "909f2e21-f65b-4b20-95e7-fdb3463b248e"
      },
      "execution_count": 37,
      "outputs": [
        {
          "output_type": "execute_result",
          "data": {
            "text/plain": [
              "('4', '2')"
            ]
          },
          "metadata": {},
          "execution_count": 37
        }
      ]
    },
    {
      "cell_type": "code",
      "source": [
        "#15. How do you get a list value's tuple form? How do you get a tuple value's list form?\n",
        "\n",
        "##Solution: tuple() and list() respectively\n"
      ],
      "metadata": {
        "id": "QzRlOl2OQjMk"
      },
      "execution_count": 38,
      "outputs": []
    },
    {
      "cell_type": "code",
      "source": [
        "#16. Variables that \"contain\" list values are not necessarily lists themselves. Instead, what do they contain?\n",
        "\n",
        "##Solution: Contains references to the list"
      ],
      "metadata": {
        "id": "_3qLSsxUR6SO"
      },
      "execution_count": 40,
      "outputs": []
    },
    {
      "cell_type": "code",
      "source": [
        "#How do you distinguish between copy.copy() and copy.deepcopy()?\n",
        "## Solution: copy() creates reference to original copy\n",
        "   ## deepcopy() adds new objects to the original copy\n",
        "\n",
        "import copy\n",
        "list1 = ['a','b',['c','d'],'e']\n",
        "list2 = copy.copy(list1)\n",
        "print(\"list2 id: \", id(list2), \"Value: \", list2)\n",
        "list3 = copy.deepcopy(list1)\n",
        "print(\"list3 id: \", id(list3), \"Value: \", list3)\n"
      ],
      "metadata": {
        "colab": {
          "base_uri": "https://localhost:8080/"
        },
        "id": "7Hb42nyBUZw4",
        "outputId": "fe364b93-54d4-4cf8-e5e8-309bd183df22"
      },
      "execution_count": 54,
      "outputs": [
        {
          "output_type": "stream",
          "name": "stdout",
          "text": [
            "list2 id:  140240067061232 Value:  ['a', 'b', ['c', 'd'], 'e']\n",
            "list3 id:  140239933536608 Value:  ['a', 'b', ['c', 'd'], 'e']\n"
          ]
        }
      ]
    },
    {
      "cell_type": "code",
      "source": [],
      "metadata": {
        "id": "50vCxJhbjPQE"
      },
      "execution_count": null,
      "outputs": []
    }
  ]
}