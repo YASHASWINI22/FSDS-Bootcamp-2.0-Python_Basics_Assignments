{
  "nbformat": 4,
  "nbformat_minor": 0,
  "metadata": {
    "colab": {
      "provenance": [],
      "collapsed_sections": []
    },
    "kernelspec": {
      "name": "python3",
      "display_name": "Python 3"
    },
    "language_info": {
      "name": "python"
    }
  },
  "cells": [
    {
      "cell_type": "code",
      "execution_count": null,
      "metadata": {
        "id": "dXJTH7sc4MkW"
      },
      "outputs": [],
      "source": [
        "#1. Why are functions advantageous to have in your programs?\n",
        "## Solution:\n",
        "          # Functions play a vital role in programming language, as it prevents replica of code. \n",
        "          # Makes code simple/shorter, easy to read, understand, execute and update.\n",
        "\n",
        "\n"
      ]
    },
    {
      "cell_type": "code",
      "source": [
        "#2. When does the code in a function run: when it's specified or when it's called?\n",
        "## Solution:\n",
        "          #Code in a function runs when it is called."
      ],
      "metadata": {
        "id": "79dIXeXM4yun"
      },
      "execution_count": null,
      "outputs": []
    },
    {
      "cell_type": "code",
      "source": [
        "#3. What statement creates a function?\n",
        "## Solution:\n",
        "          # def keyword creates a function, which basically defines the function. "
      ],
      "metadata": {
        "id": "NlsjgHgC5ILo"
      },
      "execution_count": null,
      "outputs": []
    },
    {
      "cell_type": "code",
      "source": [
        "#4. What is the difference between a function and a function call?\n",
        "## Solution:\n",
        "            #A block of code is called a Function, wherein functions accepts input from user and provides\n",
        "            # desired result, and Funtion Call is a code which passes control to a function, helps in running a code.  "
      ],
      "metadata": {
        "id": "slfFoLcC5srN"
      },
      "execution_count": null,
      "outputs": []
    },
    {
      "cell_type": "code",
      "source": [
        "#5. How many global scopes are there in a Python program? How many local scopes?\n",
        "## Solution:\n",
        "            #there is only one global scope in python and is accesssible globally.\n",
        "            #Local scope has local variable accessible where it is declared. and it is created inside the function\n",
        "            # which belongs to the local scope of that function.  "
      ],
      "metadata": {
        "id": "8vl189dV6mQp"
      },
      "execution_count": null,
      "outputs": []
    },
    {
      "cell_type": "code",
      "source": [
        "#6. What happens to variables in a local scope when the function call returns?\n",
        "## Solution:\n",
        "            #Local variable disappears or destroyed once the code is run.             "
      ],
      "metadata": {
        "id": "jNIQ_YcWFk4c"
      },
      "execution_count": null,
      "outputs": []
    },
    {
      "cell_type": "code",
      "source": [
        "#7. What is the concept of a return value? Is it possible to have a return value in an expression?\n",
        "## Solution:\n",
        "            #A return value in a function returns value to the calling script or function once the task is finished.\n",
        "            # In python function there is always a return value. If return value is not mentioned, then a default value is obtained. "
      ],
      "metadata": {
        "id": "69GAEcxdGpiL"
      },
      "execution_count": null,
      "outputs": []
    },
    {
      "cell_type": "code",
      "source": [
        "#8. If a function does not have a return statement, what is the return value of a call to that function?\n",
        "## Solution:\n",
        "            #If return value is not mentioned, then a default value is obtained.\n",
        "            # Default return value will be NONE or undefined\n"
      ],
      "metadata": {
        "id": "zAIIi4DENesA"
      },
      "execution_count": null,
      "outputs": []
    },
    {
      "cell_type": "code",
      "source": [
        "#9. How do you make a function variable refer to the global variable?\n",
        "## Solution:\n",
        "            #Use Global keyword"
      ],
      "metadata": {
        "id": "wlXk9a8cN2J-"
      },
      "execution_count": null,
      "outputs": []
    },
    {
      "cell_type": "code",
      "source": [
        "#10. What is the data type of None?\n",
        "##Solution:\n",
        "          #None itself has a data tye of (NoneType): means there is no value"
      ],
      "metadata": {
        "id": "Mp7FX5DEOM6M"
      },
      "execution_count": null,
      "outputs": []
    },
    {
      "cell_type": "code",
      "source": [
        "#11. What does the sentence import areallyourpetsnamederic do?\n",
        "##Solution: Import statment imports a module by name areallyourpetsnamederic.\n"
      ],
      "metadata": {
        "id": "apAV0cwXPLxR"
      },
      "execution_count": null,
      "outputs": []
    },
    {
      "cell_type": "code",
      "source": [
        "#12. If you had a bacon() feature in a spam module, what would you call it after importing spam?\n",
        "##Solution: spam.bacon()"
      ],
      "metadata": {
        "id": "1QKTJC6UQCjl"
      },
      "execution_count": null,
      "outputs": []
    },
    {
      "cell_type": "code",
      "source": [
        "#13. What can you do to save a programme from crashing if it encounters an error?\n",
        "##Solution: \n",
        "          ## Prevent the program from crashing by executing ErrorHandling, so as to exit the process that caused error.\n",
        "          ## use try and except statement\n",
        "          "
      ],
      "metadata": {
        "id": "J4z14O0kQVOs"
      },
      "execution_count": null,
      "outputs": []
    },
    {
      "cell_type": "code",
      "source": [
        "# 14. What is the purpose of the try clause? What is the purpose of the except clause?\n",
        "##Solution:\n",
        "          # Try clause promotes testing of block of codes for errors\n",
        "          # Except clause promoted handling of block of codes"
      ],
      "metadata": {
        "id": "llgb9e0CRxP0"
      },
      "execution_count": null,
      "outputs": []
    },
    {
      "cell_type": "code",
      "source": [],
      "metadata": {
        "id": "qE1YGrtT31VL"
      },
      "execution_count": null,
      "outputs": []
    }
  ]
}